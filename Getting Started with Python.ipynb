{
 "cells": [
  {
   "cell_type": "markdown",
   "metadata": {},
   "source": [
    "# Getting started with Python \n",
    "Hello and welcome to this Python craziness! Let's get started!"
   ]
  },
  {
   "cell_type": "markdown",
   "metadata": {},
   "source": [
    "## Check requirements and downloading packages:\n",
    "If you were able to open this Jupyter Notebook, congratulations! You have succesfully installed Python and the Jupyter-package. For this notebook, the only additional requirement the package \"numpy\". This can be imported with the following line:"
   ]
  },
  {
   "cell_type": "code",
   "execution_count": 2,
   "metadata": {},
   "outputs": [],
   "source": [
    "import numpy as np"
   ]
  },
  {
   "cell_type": "markdown",
   "metadata": {},
   "source": [
    "If this does not work, you will have to install it. Unlike *R*, we normally install packages outside of the program. This can be done using the terminal and writing...:"
   ]
  },
  {
   "cell_type": "code",
   "execution_count": 3,
   "metadata": {},
   "outputs": [
    {
     "name": "stdout",
     "output_type": "stream",
     "text": [
      "Collecting package_name\n",
      "  Downloading package_name-0.1.tar.gz (782 bytes)\n",
      "Building wheels for collected packages: package-name\n",
      "  Building wheel for package-name (setup.py) ... \u001b[?25ldone\n",
      "\u001b[?25h  Created wheel for package-name: filename=package_name-0.1-py3-none-any.whl size=1266 sha256=046c527690a85ebefa3abdffd01694a9f7123fee597f7a2dfdfcff804d71b3ed\n",
      "  Stored in directory: /Users/pernillebrams/Library/Caches/pip/wheels/15/6f/9d/b3c9f8b85e90c325a8daaae5fde28dbb1ddaba801de43875ae\n",
      "Successfully built package-name\n",
      "Installing collected packages: package-name\n",
      "Successfully installed package-name-0.1\n",
      "Note: you may need to restart the kernel to use updated packages.\n"
     ]
    }
   ],
   "source": [
    "pip install package_name"
   ]
  },
  {
   "cell_type": "markdown",
   "metadata": {},
   "source": [
    "\"Package_name\" is the name of the package that you want to install. For more information: https://datatofish.com/install-package-python-using-pip/"
   ]
  },
  {
   "cell_type": "markdown",
   "metadata": {},
   "source": [
    "### Section 1: Lists, strings and indexes"
   ]
  },
  {
   "cell_type": "markdown",
   "metadata": {},
   "source": [
    "Let us start at the absolute basics. We will make a list, a very useful way of storing data in Python, and try to extract those values:"
   ]
  },
  {
   "cell_type": "code",
   "execution_count": 4,
   "metadata": {},
   "outputs": [],
   "source": [
    "my_list = [1,2,3,4] #[] is the way to state that this is a list TEST TEST"
   ]
  },
  {
   "cell_type": "markdown",
   "metadata": {},
   "source": [
    "Now that we have a list, let us get the first value out of the list:"
   ]
  },
  {
   "cell_type": "code",
   "execution_count": null,
   "metadata": {},
   "outputs": [],
   "source": [
    "my_list[1]"
   ]
  },
  {
   "cell_type": "markdown",
   "metadata": {},
   "source": [
    "Wait, what? 2 is not the first value, so what is happening? This frustration is caused by Python being *zero-indexed*. We always start at zero!"
   ]
  },
  {
   "cell_type": "code",
   "execution_count": null,
   "metadata": {},
   "outputs": [],
   "source": [
    "my_list[0]"
   ]
  },
  {
   "cell_type": "markdown",
   "metadata": {},
   "source": [
    "There we go. What if we wanted to find the last number of the list? We can just go *\"backwards\"* instead: "
   ]
  },
  {
   "cell_type": "code",
   "execution_count": null,
   "metadata": {},
   "outputs": [],
   "source": [
    "my_list[-1]"
   ]
  },
  {
   "cell_type": "markdown",
   "metadata": {},
   "source": [
    "What if we wanted to have the whole list reversed? Easy!"
   ]
  },
  {
   "cell_type": "code",
   "execution_count": null,
   "metadata": {},
   "outputs": [],
   "source": [
    "my_list[::-1]"
   ]
  },
  {
   "cell_type": "markdown",
   "metadata": {},
   "source": [
    "What if we want several values? Also easy!"
   ]
  },
  {
   "cell_type": "code",
   "execution_count": null,
   "metadata": {},
   "outputs": [],
   "source": [
    "my_list[1:3]"
   ]
  },
  {
   "cell_type": "markdown",
   "metadata": {},
   "source": [
    "Note that in the operation above, we get values with index 1 up to **but not including** 3."
   ]
  },
  {
   "cell_type": "markdown",
   "metadata": {},
   "source": [
    "We can actually do the exact same operations for strings. Let's try that:"
   ]
  },
  {
   "cell_type": "code",
   "execution_count": null,
   "metadata": {},
   "outputs": [],
   "source": [
    "my_string = \"Hello World!\"\n",
    "print(my_string[0])\n",
    "print(my_string[-1])\n",
    "print(my_string[::-1])"
   ]
  },
  {
   "cell_type": "markdown",
   "metadata": {},
   "source": [
    "Strings are kind of special in Python compared to other programming languages. Running the line below, try to guess what the different lines would print:"
   ]
  },
  {
   "cell_type": "code",
   "execution_count": null,
   "metadata": {},
   "outputs": [],
   "source": [
    "print(\"a\"+\"b\")\n",
    "print(\"a\"*3)\n"
   ]
  },
  {
   "cell_type": "markdown",
   "metadata": {},
   "source": [
    "In other words, adding a string to a string concatenates them and multiplying a string with a number repeats the string that number of times and concatenates them. "
   ]
  },
  {
   "cell_type": "markdown",
   "metadata": {},
   "source": [
    "### Section 2: Sum of Two Numbers - Introduction to Functions"
   ]
  },
  {
   "cell_type": "markdown",
   "metadata": {},
   "source": [
    "Now that we have Python installed, let's make our first function. \n",
    "In Python, we initialize a function with the special word *def*. As a default, all functions return a \"None\" object. So most of the time, we will want to also state a *return* in our function. The return is our output. In other words, if we assign anything as the value of the function (data = read_csv(x)), the return of the \"read_csv\"-function on x, will be returned into data. Furthermore, in constrast to other languages, such as R, we do not use \"{}\" to indicate the scope of the function. Instead, we use indentations. In turn, this means that indentations matter in Python, and must be correct for a function to run properly. The same is true for opening files, for-loops and while loops to name a few. \n",
    "\n",
    "Before we can look at code, we only need to know one more thing special to Python; the *input*-function. The input function allows us to ask the user for an input, and waits until it has gotten such an input. However, it is important that the input function returns the input as a string, so if we want to work with numbers, we will want to make these strings into numbers. Alright, enough writing - let's get coding! \n",
    "\n",
    "Let's first see how a function looks in Python:"
   ]
  },
  {
   "cell_type": "code",
   "execution_count": null,
   "metadata": {},
   "outputs": [],
   "source": [
    "def my_function():\n",
    "    return 3\n",
    "\n",
    "x = my_function()\n",
    "x"
   ]
  },
  {
   "cell_type": "markdown",
   "metadata": {},
   "source": [
    "Next, let's look at how we can allow a user to input different values using the input function:"
   ]
  },
  {
   "cell_type": "code",
   "execution_count": null,
   "metadata": {},
   "outputs": [],
   "source": [
    "x = input(\"Try typing something! \")\n",
    "x"
   ]
  },
  {
   "cell_type": "markdown",
   "metadata": {},
   "source": [
    "As stated before, it is important to remember that the input function returns a string. If we want to make any mathematical operations on the object afterwards, we have to change the data type. As Python handles strings differently than what you might expect, it doesn't give an error, but just a silly output:"
   ]
  },
  {
   "cell_type": "code",
   "execution_count": null,
   "metadata": {},
   "outputs": [],
   "source": [
    "x = input(\"Type any integer/number: \")\n",
    "x * 3"
   ]
  },
  {
   "cell_type": "markdown",
   "metadata": {},
   "source": [
    "To change datatypes in Python, we simply wrap whatever we want to change in a paranthesis, and write what datatype we want it to be before those parantheses:"
   ]
  },
  {
   "cell_type": "code",
   "execution_count": null,
   "metadata": {},
   "outputs": [],
   "source": [
    "x = float(input(\"Type any integer/number: \"))\n",
    "x * 3"
   ]
  },
  {
   "cell_type": "markdown",
   "metadata": {},
   "source": [
    "### Exercise 1: input sum\n",
    "Once you've understood this, let's us put that knowledge to use! Let's make a function that takes no input, but sums two numbers that the user is allowed to assign using the input function. The function should return the sum of the two numbers. Remember that the input function returns strings, so you will have to reassign these to an integer or a float to sum the numbers. \n",
    "\n",
    "Once you are done, you can check the answer to the exercise in the bottom of the notebook. "
   ]
  },
  {
   "cell_type": "code",
   "execution_count": null,
   "metadata": {},
   "outputs": [],
   "source": [
    "def my_sum():\n",
    "    ## YOUR CODE\n",
    "    return the_sum"
   ]
  },
  {
   "cell_type": "code",
   "execution_count": null,
   "metadata": {},
   "outputs": [],
   "source": [
    "my_sum() #test your function"
   ]
  },
  {
   "cell_type": "markdown",
   "metadata": {},
   "source": [
    "### Section 3: More numbers!\n",
    "What if we wanted to sum over more than two numbers? Easy! We'll just include a *while-loop*. A while-loop is the amazing combination of a for-loop and an if-statement. The while loop will continue to run while the boolean value that it is assigned evaluates to \"True\". Therefore, if you are not careful, while loops can run forever! Let's see it in action!"
   ]
  },
  {
   "cell_type": "code",
   "execution_count": null,
   "metadata": {},
   "outputs": [],
   "source": [
    "k = 1\n",
    "while k < 5:\n",
    "    print(k)\n",
    "    k = k + 1"
   ]
  },
  {
   "cell_type": "markdown",
   "metadata": {},
   "source": [
    "But we can do better than that in Python. Python allows for very quick reassignment of a variable. Instead of writing \"k = k + 1\", we can instead just write \"k += 1\":"
   ]
  },
  {
   "cell_type": "code",
   "execution_count": null,
   "metadata": {},
   "outputs": [],
   "source": [
    "k = 1\n",
    "while k < 5:\n",
    "    print(k)\n",
    "    k += 1"
   ]
  },
  {
   "cell_type": "markdown",
   "metadata": {},
   "source": [
    "### Exercise 2: sums \n",
    "Amazing, right? No more writing things twice! Those days are over. Now on to you doing something. \n",
    "\n",
    "Let's make a function that takes no input and asks how many numbers the user wants to sum. Let us call this number $i$. The function should ask the user for $i$ numbers to sum, and the return the final sum of these numbers.\n",
    "\n",
    "Once you are done, check the answer in the bottom of the notebook. The solution provided used a while-loop, but it arguably makes more sense to just use a classic for-loop in your solution. "
   ]
  },
  {
   "cell_type": "code",
   "execution_count": null,
   "metadata": {},
   "outputs": [],
   "source": [
    "def sum_of_many():\n",
    "    # YOUR CODE\n",
    "    return(the_sum)"
   ]
  },
  {
   "cell_type": "code",
   "execution_count": null,
   "metadata": {},
   "outputs": [],
   "source": [
    "sum_of_many() #test your function"
   ]
  },
  {
   "cell_type": "markdown",
   "metadata": {},
   "source": [
    "### Exercise 3: Making a Loan calculator\n",
    "Let's us take some of these basic principles and put them together to make our first major function: a loan calculator.\n",
    "\n",
    "We want to be able to be able to calculate how long it would take to pay off a loan shark given an initial loan, an interest rate and a monthly payment.\n",
    "\n",
    "Write a program to compute how many months it takes to pay down a loan, that has a fixed monthly interest rate, and the borrower makes a fixed monthly payment. The program should ask the user for three values: The size of the initial loan, the monthly interest rate in %, and the size of the monthly payment of the borrower. The program should output for each month the size of the remaining loan.\n",
    "\n",
    "NOTE: Some loans are terrible and unpayable. As we are working with the *dangerous* while-loop, bad loans will cause the program to run forever. So additionally, include an *if-statement*, which stops the function (use *break*) if the loan is unpayable. Consider what would make a loan unpayable."
   ]
  },
  {
   "cell_type": "code",
   "execution_count": null,
   "metadata": {},
   "outputs": [],
   "source": [
    "def loan_calculator():\n",
    "    # YOUR CODE\n",
    "\n",
    "loan_calculator()"
   ]
  },
  {
   "cell_type": "markdown",
   "metadata": {},
   "source": [
    "### Section 4: List comprehensions\n",
    "Alright. Now we've messed around a bit with numbers. Let's see why Python is an amazing programming language. One of the reasons why Python is amazing is the *list-comprehensions* operation. List comprehensions are basically loops in one line. Amazing, right? Let's just see a quick example:"
   ]
  },
  {
   "cell_type": "code",
   "execution_count": null,
   "metadata": {},
   "outputs": [],
   "source": [
    "[x for x in range(10)]"
   ]
  },
  {
   "cell_type": "markdown",
   "metadata": {},
   "source": [
    "Just to give you an idea of what is happening, let's do the same in a classic for-loop:"
   ]
  },
  {
   "cell_type": "code",
   "execution_count": null,
   "metadata": {},
   "outputs": [],
   "source": [
    "empty_list = []\n",
    "for x in range(10):\n",
    "    empty_list.append(x) #add x to the end of the list\n",
    "empty_list"
   ]
  },
  {
   "cell_type": "markdown",
   "metadata": {},
   "source": [
    "This much more messy way of going about things does the exact same thing, only slower and worse. First of all, we have to keep appending stuff into the list. We also have to initialize the list, in order for the computer to understand where to put all these numbers. With list comprehensions, we can do that in one fell swoop!\n",
    "\n",
    "Let's up the complexity! Before running the next chunk, read it and try to guess what the output will be."
   ]
  },
  {
   "cell_type": "code",
   "execution_count": null,
   "metadata": {},
   "outputs": [],
   "source": [
    "[x for x in range(10) for y in range(2)]"
   ]
  },
  {
   "cell_type": "markdown",
   "metadata": {},
   "source": [
    "In order to make sense of this, let us once again figure out what this looks like in a for loop:"
   ]
  },
  {
   "cell_type": "code",
   "execution_count": null,
   "metadata": {},
   "outputs": [],
   "source": [
    "empty_list = []\n",
    "for x in range(10):\n",
    "    for y in range(2):\n",
    "            empty_list.append(x)\n",
    "        \n",
    "empty_list"
   ]
  },
  {
   "cell_type": "markdown",
   "metadata": {},
   "source": [
    "List comprehensions can allow for much more powerful operations, as they can be combined with other useful operations. For instance, we can also make an \"if-statement\" in the list comprehension:"
   ]
  },
  {
   "cell_type": "code",
   "execution_count": null,
   "metadata": {},
   "outputs": [],
   "source": [
    "[x for x in range(10) for y in range(2) if x != 2]"
   ]
  },
  {
   "cell_type": "markdown",
   "metadata": {},
   "source": [
    "Just for completeness, let's look at the for loop:"
   ]
  },
  {
   "cell_type": "code",
   "execution_count": null,
   "metadata": {},
   "outputs": [],
   "source": [
    "empty_list = []\n",
    "for x in range(10):\n",
    "    for y in range(2):\n",
    "        if x != 2:\n",
    "            empty_list.append(x)\n",
    "        \n",
    "empty_list"
   ]
  },
  {
   "cell_type": "markdown",
   "metadata": {},
   "source": [
    "Powerful stuff! Note that any list comprehension can be done in a for-loop, but do take the time to mess around with list-comprehensions. They are wicked!"
   ]
  },
  {
   "cell_type": "markdown",
   "metadata": {},
   "source": [
    "#### Tuples\n",
    "\n",
    "The only thing left that we need to learn is what a *tuple* is. A tuple in Python is an immutable object, closely related to a list. Immutable in Python means that we are not able to manipulate with objects inside of a tuple. Once its made, it is what it is. This might seem stupid - why would you want something that you can't change? The answer is speed. Operating on tuples is much faster compared to lists. All of the indexing is the same for tuples as it is for lists and characters. "
   ]
  },
  {
   "cell_type": "code",
   "execution_count": null,
   "metadata": {},
   "outputs": [],
   "source": [
    "my_tuple = (1,2,3,4) #() is for tuples\n",
    "print(type(my_tuple)) #returns what datatype the object is"
   ]
  },
  {
   "cell_type": "markdown",
   "metadata": {},
   "source": [
    "Let's just see a bit more of why Python is amazing and why tuples are useful. Say that we wanted 4 new variables, \"a\", \"b\", \"c\" and \"d\" to have the values represented in the tuple we made above. For the uninitiated:"
   ]
  },
  {
   "cell_type": "code",
   "execution_count": null,
   "metadata": {},
   "outputs": [],
   "source": [
    "a = my_tuple[0]\n",
    "b = my_tuple[1]\n",
    "c = my_tuple[2]\n",
    "d = my_tuple[3]\n",
    "print(a,b,c,d)"
   ]
  },
  {
   "cell_type": "markdown",
   "metadata": {},
   "source": [
    "And now for the big bois:"
   ]
  },
  {
   "cell_type": "code",
   "execution_count": null,
   "metadata": {},
   "outputs": [],
   "source": [
    "a, b, c, d = my_tuple\n",
    "print(a,b,c,d)"
   ]
  },
  {
   "cell_type": "markdown",
   "metadata": {},
   "source": [
    "Much cleaner, much nicer. Python unpacks all the values in the tuple and stores them in the corresponding variables. Python is amazing."
   ]
  },
  {
   "cell_type": "markdown",
   "metadata": {},
   "source": [
    "#### Enumerate\n",
    "\n",
    "Another amazing feature from Python is called *enumerate*. Enumerate creates a tuple, which holds both the index and the actual value of an object. This allows us to loop through an object, while storing both the value and the index of what we are looping through. Here is a quick example:"
   ]
  },
  {
   "cell_type": "code",
   "execution_count": null,
   "metadata": {
    "scrolled": true
   },
   "outputs": [],
   "source": [
    "for index, value in enumerate([\"hey\", \"you\", \"are\", \"learning!\"]):\n",
    "    print(index)\n",
    "    print(value)"
   ]
  },
  {
   "cell_type": "markdown",
   "metadata": {},
   "source": [
    "This allows us to save both the index and the values of a list or other objects in a fast and efficient way. Python is great! "
   ]
  },
  {
   "cell_type": "markdown",
   "metadata": {},
   "source": [
    "#### To the power of (and beyond)\n",
    "For many mathematical operations in Python (including the next exercise), it is necessary to calculate a number to the power of another number. In Python, this is done using the double star:"
   ]
  },
  {
   "cell_type": "code",
   "execution_count": null,
   "metadata": {},
   "outputs": [],
   "source": [
    "2**3"
   ]
  },
  {
   "cell_type": "markdown",
   "metadata": {},
   "source": [
    "### Exercise 4: polynomial \n",
    "\n",
    "Let's try to use all of what we have learned so far and also learn some math as we go along! \n",
    "\n",
    "A polynomial $poly(x) = c_k·x^k + c_{k-1}·x^{k-1} + ··· + c_1·x^1 + c_0·x^0$ can be represented by a tuple $(c_0, c_1, ..., c_k)$, e.g. the polynomial $3x^3 - 2x^2 + 0x + 5$ can be represented by a tuple $(5, 0, -2, 3)$. \n",
    "\n",
    "So! Write a function that takes no input and asks the user for 4 numbers $(c_1, c_2, c_3, c_4)$. After that, the user should give an x-value that the polynomial should be evaluated on. Finally, the function should return the functions value at x.  E.g. for x = 7 and coefficients (5, 0, -2, 3) your code should compute the value 936. Use list comprehensions and enumerate in your solution."
   ]
  },
  {
   "cell_type": "code",
   "execution_count": null,
   "metadata": {},
   "outputs": [],
   "source": [
    "def polynomial():\n",
    "    # YOUR CODE HERE\n",
    "\n",
    "    return \n",
    "\n",
    "polynomial()\n"
   ]
  },
  {
   "cell_type": "markdown",
   "metadata": {},
   "source": [
    "### Section 5: Dictionaries\n",
    "Dictionaries are another amazing thing about Python. Dictionaries are basically a way of storing a relationship between two variables. We could think of dictionaries as actual dictionaries. Given some *key*, they return some *value*. Let's see how this works. Just like lists are denoted with \\[\\] in Python, dictionaries are denoted with {}:"
   ]
  },
  {
   "cell_type": "code",
   "execution_count": null,
   "metadata": {},
   "outputs": [],
   "source": [
    "my_dict = {\"AGF\":2, \"Horsens\":1, \"Barcelona\":0}\n"
   ]
  },
  {
   "cell_type": "markdown",
   "metadata": {},
   "source": [
    "Now that we've made our dictionary, we can look values up in the dictionary. This can be done by either indexing in the dictionary or using the *get*-method on the dictionary. Let's have a look:"
   ]
  },
  {
   "cell_type": "code",
   "execution_count": null,
   "metadata": {},
   "outputs": [],
   "source": [
    "my_dict[\"AGF\"]"
   ]
  },
  {
   "cell_type": "code",
   "execution_count": null,
   "metadata": {},
   "outputs": [],
   "source": [
    "my_dict.get(\"AGF\")"
   ]
  },
  {
   "cell_type": "markdown",
   "metadata": {},
   "source": [
    "Note that just like in a normal dictionary, no key can be in our dictionary twice. If that was the case, we couldn't look up the relevant values. \n",
    "\n",
    "Moreover, we can make the deluxe operation of a dictionary comprehension in Python. Now we're getting somewhere! It's exactly the same as a list comprehension but with dictionaries:"
   ]
  },
  {
   "cell_type": "code",
   "execution_count": null,
   "metadata": {},
   "outputs": [],
   "source": [
    "listing = ['A', 'B', 'A', 'A', 'C', 'E', 'C']\n",
    "\n",
    "{x:3 for x in listing}"
   ]
  },
  {
   "cell_type": "markdown",
   "metadata": {},
   "source": [
    "We can do more funky stuff with dictionaries. If we are only interested in the keys of the dictionary, we can simply ask for a list of the keys using the inbuilt \".keys()\"-method for dictionaries:"
   ]
  },
  {
   "cell_type": "code",
   "execution_count": null,
   "metadata": {},
   "outputs": [],
   "source": [
    "my_dict = {\"AGF\":2, \"Horsens\":1, \"Barcelona\":0}\n",
    "list(my_dict.keys())"
   ]
  },
  {
   "cell_type": "markdown",
   "metadata": {},
   "source": [
    "The same can be done for only the values, using the \".values()\"-method:"
   ]
  },
  {
   "cell_type": "code",
   "execution_count": null,
   "metadata": {},
   "outputs": [],
   "source": [
    "list(my_dict.values())"
   ]
  },
  {
   "cell_type": "markdown",
   "metadata": {},
   "source": [
    "Enough of me showing you crazy things. Let's get you working again! \n",
    "\n",
    "\n",
    "### Exercise 5: dictionary\n",
    "\n",
    "\n",
    "Write a function called \"histogram\" that given a list of elements, returns a dictionary of the counts of each item in the list.\n",
    "E.g. histogram(\\['A', 'B', 'A', 'A', 'C', 'E', 'C'\\]) should return {'A':3, 'B':1, 'C':2, 'E':1}.\n",
    "\n",
    "Hint. Use a dictionary and the dictionary method get."
   ]
  },
  {
   "cell_type": "code",
   "execution_count": null,
   "metadata": {},
   "outputs": [],
   "source": [
    "listing = ['A', 'B', 'A', 'A', 'C', 'E', 'C']\n",
    "\n",
    "def histogram(listing):\n",
    "    # YOUR CODE HERE\n",
    "    \n",
    "    return hist "
   ]
  },
  {
   "cell_type": "markdown",
   "metadata": {},
   "source": [
    "### Section 6: More dictionaries\n",
    "It is often very useful to be able to sort an object by what you are interested in. If we want to sort an object, we can use the inbuilt \"sorted()\"-function in Python:"
   ]
  },
  {
   "cell_type": "code",
   "execution_count": null,
   "metadata": {},
   "outputs": [],
   "source": [
    "sorted(my_dict)"
   ]
  },
  {
   "cell_type": "markdown",
   "metadata": {},
   "source": [
    "As its default, it sorts the dictionaries by their keys alphabetically. But we can also use the values instead to sort the dictionary:"
   ]
  },
  {
   "cell_type": "code",
   "execution_count": null,
   "metadata": {},
   "outputs": [],
   "source": [
    "sorted(my_dict, key = my_dict.get)"
   ]
  },
  {
   "cell_type": "markdown",
   "metadata": {},
   "source": [
    "Does that seem right? Barcelona was the one key with the lowest score, Horsens the second lowest and AGF the highest (obviously). So what is happening? The default is ascending, so we'll need to tell Python that we want the exact opposite of what it gave us:"
   ]
  },
  {
   "cell_type": "code",
   "execution_count": null,
   "metadata": {},
   "outputs": [],
   "source": [
    "sorted(my_dict, key = my_dict.get, reverse = True)"
   ]
  },
  {
   "cell_type": "markdown",
   "metadata": {},
   "source": [
    "And there it is - smooth sailing I would say! Now it is time for you to do some work. \n",
    "\n",
    "### Exercise 6: unique values\n",
    "\n",
    "Your task is to write a function uniques(D), that takes a dictionary D, and returns a list of all the keys in the dictionary, where the associated value does not occur as the value for another key. The returned list should be sorted alphebetically.\n",
    "\n",
    "Example:\n",
    "\n",
    "Input:  {'B': 3, 'D': 1, 'A': 2, 'F': 7, 'E': 3, 'G': 4}\n",
    "\n",
    "Output: \\['A', 'D', 'F', 'G'\\]"
   ]
  },
  {
   "cell_type": "code",
   "execution_count": null,
   "metadata": {},
   "outputs": [],
   "source": [
    "D = {'B': 3, 'D': 1, 'A': 2, 'F': 7, 'E': 3, 'G': 4}\n",
    "\n",
    "def uniques(D):\n",
    "\n",
    "    # YOUR CODE HERE\n",
    "    \n",
    "\n",
    "uniques(D)"
   ]
  },
  {
   "cell_type": "markdown",
   "metadata": {},
   "source": [
    "### Section 7: Object Oriented Programming"
   ]
  },
  {
   "cell_type": "markdown",
   "metadata": {},
   "source": [
    "Python also allows for the very powerful *Object-oriented programming*. Instead of defining functions, we define a class of objects that have specific methods built in to their class. This is basically the way the language is built in the first place. You can see instances of this by for instance calling \".lower()\" on a string: "
   ]
  },
  {
   "cell_type": "code",
   "execution_count": null,
   "metadata": {},
   "outputs": [],
   "source": [
    "my_string = \"HELLO\"\n",
    "my_string.lower()"
   ]
  },
  {
   "cell_type": "markdown",
   "metadata": {},
   "source": [
    "The reason this works is because Python already understands that \"my_string\" belongs to the class \"string\", which has the method \".lower()\". Note here that \".lower()\" is actually a function/method, which is why we include the parenthesis in the end. This will become more clear when we make our own class. So let's do that now! \n",
    "\n",
    "We'll start off by making a class called \"Point\". \"Point\" should contain a point in 2d-space, so we need x- and y-coordinates for this specific point. For all classes, we have to initialize the class. This is done with the very important *\"\\_\\_init\\_\\_\"*-method. Whenever we call the class, this function will run to initialize the instance of the class. In our case, we want the specific point to be initialized with both coordinates. When that is done, we can add functionality to our class. We will start off by making the function *\"get_point\"*, which return a tuple of the points: "
   ]
  },
  {
   "cell_type": "code",
   "execution_count": null,
   "metadata": {},
   "outputs": [],
   "source": [
    "class Point:\n",
    "    def __init__(self, x, y):\n",
    "        self.x = x \n",
    "        self.y = y \n",
    "    def get_point(self):\n",
    "        return (self.x, self.y)"
   ]
  },
  {
   "cell_type": "code",
   "execution_count": null,
   "metadata": {},
   "outputs": [],
   "source": [
    "pointing = Point(2,3)\n",
    "pointing.get_point()"
   ]
  },
  {
   "cell_type": "markdown",
   "metadata": {},
   "source": [
    "Two things should be noted here. First, pay attention to how the special keywords \"self\" is used in the classes. This refers to the specific instance of the class. This is also why the syntax \"pointing.get_point()\" and \"my_string.lower()\" works. The \"self\" is whatever comes before the dot, which is then passed to the function of the class. Let's make two new methods for the class, which will allow us to set new x and y values:"
   ]
  },
  {
   "cell_type": "code",
   "execution_count": 1,
   "metadata": {},
   "outputs": [],
   "source": [
    "class Point:\n",
    "    def __init__(self, x, y):\n",
    "        self.x = x \n",
    "        self.y = y \n",
    "    def get_point(self):\n",
    "        return (self.x, self.y)\n",
    "    def set_x(self, new_x):\n",
    "        self.x = new_x\n",
    "    def set_y(self, new_y):\n",
    "        self.y = new_y\n",
    "        "
   ]
  },
  {
   "cell_type": "markdown",
   "metadata": {},
   "source": [
    "Which allows us to change the point after it has been initialized:"
   ]
  },
  {
   "cell_type": "code",
   "execution_count": 2,
   "metadata": {},
   "outputs": [
    {
     "data": {
      "text/plain": [
       "(7, 8)"
      ]
     },
     "execution_count": 2,
     "metadata": {},
     "output_type": "execute_result"
    }
   ],
   "source": [
    "new_point = Point(5,6)\n",
    "new_point.set_x(7)\n",
    "new_point.set_y(8)\n",
    "new_point.get_point()"
   ]
  },
  {
   "cell_type": "markdown",
   "metadata": {},
   "source": [
    "And there we go! \n",
    "\n",
    "The observant student could now ask: \"Isn't this just functions in a new and confusion disguise?\" Yes and no. We are still running functions. But classes allow us to reuse functionality by stating that a new class should be a sub-category of the first class. Let's see that in action:"
   ]
  },
  {
   "cell_type": "code",
   "execution_count": 3,
   "metadata": {},
   "outputs": [],
   "source": [
    "class Point3d(Point): #indicate that the new class Point3d should be a subclass of the superclass Point\n",
    "    def __init__(self, x, y, z):\n",
    "        self.x = x\n",
    "        self.y = y\n",
    "        self.z = z \n",
    "    def get_all_points(self):\n",
    "        return (self.x, self.y, self.z)\n"
   ]
  },
  {
   "cell_type": "code",
   "execution_count": 4,
   "metadata": {},
   "outputs": [
    {
     "data": {
      "text/plain": [
       "(17, 20, 5)"
      ]
     },
     "execution_count": 4,
     "metadata": {},
     "output_type": "execute_result"
    }
   ],
   "source": [
    "new_point = Point3d(3,4,5) #initialize with x = 3, y = 4, z = 5\n",
    "new_point.set_x(17) #point to the superclass function of changing x\n",
    "new_point.set_y(20) # -- // -- changing y\n",
    "new_point.get_all_points() #include the new function for getting x, y, z \n"
   ]
  },
  {
   "cell_type": "markdown",
   "metadata": {},
   "source": [
    "As you can see, even though we didn't make any new functions, by stating that this is a subset of the class \"Point\", we can still call the \"set_x()\"-method and the \"set_y()\"-method from the super class. This allows us to make very compact coding. But classes are even more powerful than that. We can also specifically state how built-in operations in Python should work on our class. For instance, we can state how Python should turn an instance of our class into a string. Whenever you use *print()* on an object in Python, this is what is happening under the hood. Let's do that!:"
   ]
  },
  {
   "cell_type": "code",
   "execution_count": null,
   "metadata": {},
   "outputs": [],
   "source": [
    "class Point:\n",
    "    def __init__(self, x, y):\n",
    "        self.x = x \n",
    "        self.y = y \n",
    "    def get_point(self):\n",
    "        return (self.x, self.y)\n",
    "    def set_x(self, new_x):\n",
    "        self.x = new_x\n",
    "    def set_y(self, new_y):\n",
    "        self.y = new_y\n",
    "    def __str__(self):\n",
    "        return str((self.x, self.y))"
   ]
  },
  {
   "cell_type": "code",
   "execution_count": null,
   "metadata": {},
   "outputs": [],
   "source": [
    "new_point = Point(4,5)\n",
    "print(new_point)"
   ]
  },
  {
   "cell_type": "markdown",
   "metadata": {},
   "source": [
    "That might not seem very impressive, but we've actually told Python that it should interpret reverting a Point-object to a string in a specific way for our class. The point is that this is super flexible. It could basically be anything:"
   ]
  },
  {
   "cell_type": "code",
   "execution_count": null,
   "metadata": {},
   "outputs": [],
   "source": [
    "class Point:\n",
    "    def __init__(self, x, y):\n",
    "        self.x = x \n",
    "        self.y = y \n",
    "    def get_point(self):\n",
    "        return (self.x, self.y)\n",
    "    def set_x(self, new_x):\n",
    "        self.x = new_x\n",
    "    def set_y(self, new_y):\n",
    "        self.y = new_y\n",
    "    def __str__(self):\n",
    "        return f\"I'm a point and my coordinates are ({self.x},{self.y}).\" #format string\n",
    "\n",
    "my_point = Point(4,5)\n",
    "print(my_point)"
   ]
  },
  {
   "cell_type": "markdown",
   "metadata": {},
   "source": [
    "The last line we're using here is what is called a *format string*. If you are used to R, this roughly corresponds to \"paste\" or related functions, where we can mix variables and strings. Format strings are specified with the inclusion of \"f\" before the string. This allows for the inclusion of non-string objects to be included in the string. These non-string objects are included by putting curly brackets \"{}\" around them.\n",
    "\n",
    "Alright, let us get you working again. \n",
    "\n",
    "### Exercise 7: implement a class\n",
    "\n",
    "Implement a class PersonReader supporting the following methods:\n",
    "\n",
    "\\_\\_init\\_\\_: Asks the user (with input()) for the name and year of birth of a person at shell prompt (using the builtin input function).\n",
    "\n",
    "set_name: Renames the person.\n",
    "\n",
    "get_name: returns the name of the person.\n",
    "\n",
    "set_year: Reassigns the year of birth to a new value.\n",
    "\n",
    "get_year: Returns the year of birth of a person.\n",
    "\n",
    "\\_\\_str\\_\\_:  Returns the string \"name (year)\" (e.g. to be used by the print method when applied to a PersonReader).\n",
    "\n",
    "IMPORTANT! This function *must* be called \"\\_\\_str\\_\\_\" for Python to understand the convertion to string!\n"
   ]
  },
  {
   "cell_type": "code",
   "execution_count": null,
   "metadata": {},
   "outputs": [],
   "source": [
    "class PersonReader:\n",
    "    # YOUR CODE HERE\n",
    "\n",
    "a = PersonReader()"
   ]
  },
  {
   "cell_type": "markdown",
   "metadata": {},
   "source": [
    "### Exercise 8: NUMPY ALERT!\n",
    "Let's get real. Numpy is the real package in Python. Numpy has some great features. One of them is called arrays. Arrays are pretty much matrices. Let's have a look!"
   ]
  },
  {
   "cell_type": "code",
   "execution_count": null,
   "metadata": {},
   "outputs": [],
   "source": [
    "arrayz = np.array((0,0,0,1,1,1,2,2,2))\n",
    "arrayz = arrayz.reshape((3,3))\n",
    "arrayz"
   ]
  },
  {
   "cell_type": "markdown",
   "metadata": {},
   "source": [
    "We initialize the array with some numbers. These are first just a vector of 9 numbers. We can then tell the array that the shape i.e. the dimensions of the matrix should be different. Here we state that there should be 3 rows and 3 columns.\n",
    "\n",
    "As always, we can index the arrays as we would normally do using square brackets. "
   ]
  },
  {
   "cell_type": "code",
   "execution_count": null,
   "metadata": {},
   "outputs": [],
   "source": [
    "arrayz[0]"
   ]
  },
  {
   "cell_type": "markdown",
   "metadata": {},
   "source": [
    "Note however that instead of giving us the first element of the array, it gives us the first row. This is because the elements are *nested* in an array. If we wanted to find the first element, we need to do double indexing:"
   ]
  },
  {
   "cell_type": "code",
   "execution_count": null,
   "metadata": {},
   "outputs": [],
   "source": [
    "print(arrayz[0][0])\n",
    "print(arrayz[0,0])"
   ]
  },
  {
   "cell_type": "markdown",
   "metadata": {},
   "source": [
    "Numpy and their arrays have some really useful functions built in. One of them is a summing function which is flexible across dimensions. For instance, we can use the sum function to sum over rows or over columns:"
   ]
  },
  {
   "cell_type": "code",
   "execution_count": null,
   "metadata": {},
   "outputs": [],
   "source": [
    "print(arrayz.sum(axis = 0))\n",
    "print(arrayz.sum(axis = 1))"
   ]
  },
  {
   "cell_type": "markdown",
   "metadata": {},
   "source": [
    "We can also use this to take the mean of the rows or the columns:"
   ]
  },
  {
   "cell_type": "code",
   "execution_count": null,
   "metadata": {},
   "outputs": [],
   "source": [
    "row_means = arrayz.mean(axis = 1)\n",
    "col_means = arrayz.mean(axis = 0)\n",
    "print(row_means, col_means)"
   ]
  },
  {
   "cell_type": "markdown",
   "metadata": {},
   "source": [
    "# Answers\n",
    "### Exercise 1:"
   ]
  },
  {
   "cell_type": "code",
   "execution_count": null,
   "metadata": {},
   "outputs": [],
   "source": [
    "def sum_of_two(): #note the def - now we are starting a function! Note the indentation in next line\n",
    "    x = float(input(\"Type the first number: \")) #transforming to float from string\n",
    "    y = float(input(\"Type the second number: \")) # -- // --\n",
    "    return(x + y) #returning instead of printing, so as to be able to assign it afterwards\n",
    "\n",
    "sum_of_two() #running the function"
   ]
  },
  {
   "cell_type": "markdown",
   "metadata": {},
   "source": [
    "### Exercise 2:"
   ]
  },
  {
   "cell_type": "code",
   "execution_count": null,
   "metadata": {},
   "outputs": [],
   "source": [
    "### WHILE LOOP SOLUTION:\n",
    "\n",
    "def sum_of_many():\n",
    "    k = int(input(\"How many numbers do you want to sum today?: \")) #how many numbers that the while loop should run over\n",
    "    counter = 1 #counting how many numbers are added\n",
    "    x = float(input(\"Type the first number: \")) #transforming to float to generalize across all numbers\n",
    "    while counter < k: #if the counter is below the amount of numbers we want to add, keep adding!\n",
    "        y = float(input(\"Type the next number: \")) # -- // --\n",
    "        z = x + y #the calculation\n",
    "        x = z \n",
    "        counter += 1\n",
    "    return(z) #returning instead of printing, so as to be able to assign it afterwards\n",
    "\n",
    "### FOR-LOOP SOLUTION:\n",
    "\n",
    "def sum_of_many(): \n",
    "    n_numbers = int(input(\"How many numbers should we sum today?: \"))\n",
    "    the_sum = 0\n",
    "    for i in range(n_numbers): \n",
    "        input_i = float(input(\"Input a number: \"))\n",
    "        the_sum += input_i\n",
    "    return(the_sum)\n",
    "\n",
    "sum_of_many() #running the function"
   ]
  },
  {
   "cell_type": "markdown",
   "metadata": {},
   "source": [
    "### Exercise 3:"
   ]
  },
  {
   "cell_type": "markdown",
   "metadata": {},
   "source": [
    "NB: Here we include some extra nice features. For instance, we initially calculate whether the loan can actually be payed off with the monthly payment. \n",
    "\n",
    "In this case, we also include a helper-function called \"good_input\". All \"good_input\" does, is that it ensures that the input given by the user is a number, and not a string. This is done using the *try-operator* in Python. Python tries whatever is in the indentation, and if that doesn't work, it goes down to the *exception*, the \"except ValueError\" in the code. Note the \"while True\" initial line in the function. This goes on forever until the user listens to the instructions, and inputs a number. If this is not crystal clear, don't worry. Try to insert a loan below and see what happens!"
   ]
  },
  {
   "cell_type": "code",
   "execution_count": null,
   "metadata": {},
   "outputs": [],
   "source": [
    "def good_input(message): #function to ensure that all inputs are floats\n",
    "    while True :\n",
    "        try: #try the following block - except if you get an error, then try again because of while statement\n",
    "            prompt = float(input(message)) #takes the message as an input\n",
    "            break\n",
    "        except ValueError: #if the program gets an error, we try everything again, and ask the user to type in a number\n",
    "            print(\"Please type in a number.\")\n",
    "    return(prompt) #returns the value of the prompt, so as to assign it afterwards\n",
    "\n",
    "def loan_calculator():\n",
    "\n",
    "    loan = good_input(\"Loan size: \") #the initial loan\n",
    "    interest_rate = good_input(\"Interest rate in percent: \") #the interest rate\n",
    "    monthly_payment = good_input(\"Monthly payment: \") #the monthly payment\n",
    "    N_months = 1 #counter of months\n",
    "    difference = loan #initial difference\n",
    "\n",
    "    while difference >= 0: #if the difference is over 0, there is still payment missing. At the first iteration, this difference is the initial loan.\n",
    "        total_loan = difference * (1 + (interest_rate / 100)) #First, the total loan is being calculated with interests added before the payment.\n",
    "        difference = total_loan - monthly_payment #the difference between the two that is to be printed for each month.\n",
    "        if difference >= loan:  #ensuring that there is an end to the madness in cases where the loan will never be payed off.\n",
    "\n",
    "            print('''\n",
    "            This is going to take forever.\n",
    "            At this rate, you will never pay off your loan.\n",
    "            Actually, your debt will increase forever. What were you thinking? This smells of quick loans.''') #message in case of possible quick loan\n",
    "\n",
    "            try_again = input(\"Would you like to calculate try again? (Yes/No)\").upper() #variable used to figure out if you are running everything again\n",
    "\n",
    "            if try_again == \"YES\":\n",
    "                loan_calculator() #if answer is yes, run the function again\n",
    "            break #if not, then break out of the function\n",
    "\n",
    "        if difference <= 0: #if the difference is equal to or below 0, the loan has been paid.\n",
    "            print(f\"Month:  {N_months}\", f\"Difference: 0\", sep = \"   \") #instead of printing a negative number, the function prints 0.\n",
    "            print(\"The loan has been paid! There is a surplus of\", f\"{'%.2f' % abs(difference)}\") #using abs in order to have it in positive numbers. Only using 2 decimals.\n",
    "            print(\"DONE! You are free of debt!\")\n",
    "            break\n",
    "\n",
    "        print(f\"Month:  {N_months}   Difference: {difference:.2f}\") #formatted string to include months and difference. Difference formatted as to only take 2 decimals.\n",
    "        N_months = N_months + 1 #counter goes up for each iteration\n",
    "\n",
    "loan_calculator()"
   ]
  },
  {
   "cell_type": "markdown",
   "metadata": {},
   "source": [
    "### Exercise 4:"
   ]
  },
  {
   "cell_type": "code",
   "execution_count": null,
   "metadata": {},
   "outputs": [],
   "source": [
    "def polynomial():\n",
    "    c1 = int(input(\"c1: \"))\n",
    "    c2 = int(input(\"c2: \"))\n",
    "    c3 = int(input(\"c3: \"))\n",
    "    c4 = int(input(\"c4: \"))\n",
    "\n",
    "    x_value = int(input(\"What is the x value?: \"))\n",
    "\n",
    "    poly = (c1, c2, c3, c4) #store the variables - just think of this as a list\n",
    "\n",
    "    final = [(x_value * (ele**count)) for count, ele in enumerate(poly)] #** is to the power of\n",
    "\n",
    "    sum = 0\n",
    "\n",
    "    for count, ele in enumerate(final):\n",
    "        sum += ele\n",
    "\n",
    "    return(sum)\n",
    "\n",
    "polynomial()"
   ]
  },
  {
   "cell_type": "markdown",
   "metadata": {},
   "source": [
    "### Exercise 5:"
   ]
  },
  {
   "cell_type": "code",
   "execution_count": null,
   "metadata": {},
   "outputs": [],
   "source": [
    "listing = ['A', 'B', 'A', 'A', 'C', 'E', 'C']\n",
    "\n",
    "def histogram(listing):\n",
    "    my_dict = {}\n",
    "\n",
    "    hist = {x : my_dict.get(x, listing.count(x)) for x in listing}\n",
    "\n",
    "    return hist\n",
    "\n",
    "histogram(listing)"
   ]
  },
  {
   "cell_type": "markdown",
   "metadata": {},
   "source": [
    "### Exercise 6:"
   ]
  },
  {
   "cell_type": "code",
   "execution_count": null,
   "metadata": {},
   "outputs": [],
   "source": [
    "D = {'B': 3, 'D': 1, 'A': 2, 'F': 7, 'E': 3, 'G': 4}\n",
    "\n",
    "def uniques(D):\n",
    "    keys = list(D.keys())\n",
    "    values = list(D.values())\n",
    "\n",
    "    for i in values:\n",
    "        if values.count(i) > 1:\n",
    "            bummer = i\n",
    "            for j in keys:\n",
    "                if D.get(j) == bummer:\n",
    "                    keys.remove(j)\n",
    "\n",
    "    return sorted(keys)\n",
    "\n",
    "\n",
    "uniques(D)"
   ]
  },
  {
   "cell_type": "markdown",
   "metadata": {},
   "source": [
    "### Exercise 7: "
   ]
  },
  {
   "cell_type": "code",
   "execution_count": null,
   "metadata": {},
   "outputs": [],
   "source": [
    "class PersonReader:\n",
    "    def __init__(self):\n",
    "        self.name = None\n",
    "        self.year = None\n",
    "    def set_name(self, name):\n",
    "        self.name = name\n",
    "    def get_name(self):\n",
    "        return self.name\n",
    "    def set_year(self, year):\n",
    "        self.year = year\n",
    "    def get_year(self):\n",
    "        return self.year\n",
    "    def input_names(self):\n",
    "        self.name = input(\"Type the name of the person:\")\n",
    "        self.year = input(\"Type the year of birth of the person:\")\n",
    "    def __str__(self):\n",
    "        return print(f\"{self.name} ({self.year})\")\n",
    "\n",
    "a = PersonReader()\n",
    "a.input_names()\n",
    "a.__str__()"
   ]
  }
 ],
 "metadata": {
  "kernelspec": {
   "display_name": "Python 3",
   "language": "python",
   "name": "python3"
  },
  "language_info": {
   "codemirror_mode": {
    "name": "ipython",
    "version": 3
   },
   "file_extension": ".py",
   "mimetype": "text/x-python",
   "name": "python",
   "nbconvert_exporter": "python",
   "pygments_lexer": "ipython3",
   "version": "3.8.3"
  }
 },
 "nbformat": 4,
 "nbformat_minor": 4
}
